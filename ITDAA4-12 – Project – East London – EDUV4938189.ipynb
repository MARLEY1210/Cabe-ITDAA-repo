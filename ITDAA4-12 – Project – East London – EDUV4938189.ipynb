{
 "cells": [
  {
   "cell_type": "code",
   "execution_count": 7,
   "id": "7c3000d1",
   "metadata": {
    "scrolled": false
   },
   "outputs": [],
   "source": [
    "#Cabe Morrison, EDUV4938189\n",
    "\n",
    "#All required imports for the entire project\n",
    "import sqlite3\n",
    "import pandas as pd\n",
    "import numpy as np                                                               \n",
    "import matplotlib.pyplot as plt\n",
    "import seaborn as sns\n",
    "\n",
    "from sklearn.model_selection import train_test_split\n",
    "from sklearn.linear_model import LinearRegression\n",
    "from sklearn.tree import DecisionTreeRegressor\n",
    "from sklearn.linear_model import LogisticRegression\n",
    "\n",
    "from pandas.core.common import random_state\n",
    "from sklearn.metrics import mean_squared_error, r2_score\n",
    "from sklearn.metrics import classification_report, accuracy_score\n",
    "\n",
    "#Reads in csv file\n",
    "df = pd.read_csv('C:/Users/Cabe/Documents/Eduvos/ITDAA/Project/heart.csv')\n",
    "\n",
    "#Cleans data\n",
    "df.columns = df.columns.str.strip()\n",
    "df = df.dropna()\n",
    "\n",
    "#Connects to database\n",
    "conn = sqlite3.connect('heart.db')\n",
    "\n",
    "#Moves data into database\n",
    "df.to_sql('Heart_Disease_tracker', conn, if_exists = 'replace')\n",
    "\n",
    "#Closes database connection\n",
    "conn.close()\n",
    "\n",
    "#df.describe()\n",
    "\n",
    "#sns.countplot(x = \"thal\", data = df, hue = \"target\")\n",
    "\n",
    "#sns.displot(x = \"age\", data = df, hue=\"target\", multiple=\"dodge\")\n",
    "\n",
    "#sns.displot(x = \"oldpeak\", data = df, col=\"target\")"
   ]
  },
  {
   "cell_type": "code",
   "execution_count": 8,
   "id": "798f0844",
   "metadata": {},
   "outputs": [
    {
     "name": "stdout",
     "output_type": "stream",
     "text": [
      "R squared score:  0.5337894947682484\n"
     ]
    }
   ],
   "source": [
    "#Cleaning and preparing data for predictions and testing\n",
    "X = df.drop('target', axis=1)\n",
    "y = df['target']\n",
    "\n",
    "X_train, X_test, y_train, y_test = train_test_split(X, y, test_size = 0.2, random_state = 42)\n",
    "\n",
    "regressor = LinearRegression()\n",
    "\n",
    "#fitting model\n",
    "regressor.fit(X_train, y_train)\n",
    "\n",
    "#prediction\n",
    "y_pred = regressor.predict(X_test)\n",
    "\n",
    "#evaluation\n",
    "r2 = r2_score(y_test, y_pred)\n",
    "\n",
    "print(\"R-squared score: \", r2)"
   ]
  },
  {
   "cell_type": "code",
   "execution_count": 9,
   "id": "860d0fa4",
   "metadata": {},
   "outputs": [
    {
     "name": "stdout",
     "output_type": "stream",
     "text": [
      "Accuracy:  0.8852459016393442\n"
     ]
    }
   ],
   "source": [
    "regressor = LogisticRegression(max_iter=2000)\n",
    "\n",
    "#fitting model\n",
    "regressor.fit(X_train, y_train)\n",
    "\n",
    "#prediction\n",
    "y_pred = regressor.predict(X_test)\n",
    "\n",
    "#evaluation\n",
    "print(\"Accuracy: \", accuracy_score(y_test, y_pred))"
   ]
  },
  {
   "cell_type": "code",
   "execution_count": 10,
   "id": "b7740a13",
   "metadata": {},
   "outputs": [
    {
     "name": "stdout",
     "output_type": "stream",
     "text": [
      "R squared score:  0.014008620689655249\n"
     ]
    }
   ],
   "source": [
    "regressor = DecisionTreeRegressor(random_state=42)\n",
    "\n",
    "#fitting model\n",
    "regressor.fit(X_train, y_train)\n",
    "\n",
    "#prediction\n",
    "y_pred = regressor.predict(X_test)\n",
    "\n",
    "#evaluation\n",
    "r2 = r2_score(y_test, y_pred)\n",
    "\n",
    "print(\"R squared score: \", r2)"
   ]
  },
  {
   "cell_type": "code",
   "execution_count": null,
   "id": "e646d953",
   "metadata": {},
   "outputs": [],
   "source": []
  }
 ],
 "metadata": {
  "kernelspec": {
   "display_name": "Python 3 (ipykernel)",
   "language": "python",
   "name": "python3"
  },
  "language_info": {
   "codemirror_mode": {
    "name": "ipython",
    "version": 3
   },
   "file_extension": ".py",
   "mimetype": "text/x-python",
   "name": "python",
   "nbconvert_exporter": "python",
   "pygments_lexer": "ipython3",
   "version": "3.11.5"
  }
 },
 "nbformat": 4,
 "nbformat_minor": 5
}
